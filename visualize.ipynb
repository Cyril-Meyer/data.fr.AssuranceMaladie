{
 "cells": [
  {
   "cell_type": "code",
   "execution_count": null,
   "id": "6a4ffc83-57e2-4f62-a454-b4119c8b9f12",
   "metadata": {},
   "outputs": [],
   "source": [
    "import pandas as pd\n",
    "import pygal\n",
    "\n",
    "import numpy as np\n",
    "import matplotlib\n",
    "import matplotlib.pyplot as plt\n",
    "\n",
    "from IPython.display import HTML\n",
    "from IPython.display import SVG"
   ]
  },
  {
   "cell_type": "code",
   "execution_count": null,
   "id": "ba598685-6d64-4e10-8ac2-75fe756d3a90",
   "metadata": {},
   "outputs": [],
   "source": [
    "undefined_color = []\n",
    "for i in range(100):\n",
    "    undefined_color.append(\"#ffffff\")\n",
    "undefined_color = tuple(undefined_color)\n",
    "\n",
    "undefined_color_style = pygal.style.Style(colors=undefined_color)"
   ]
  },
  {
   "cell_type": "code",
   "execution_count": null,
   "id": "539ad091-71b4-4274-b417-ac5624e543da",
   "metadata": {},
   "outputs": [],
   "source": [
    "def grande_region_to_vraie_region(code):\n",
    "    if code == 5:\n",
    "        return ('01','02','03','04','05','06')\n",
    "    elif code == 11:\n",
    "        return ('11',)\n",
    "    elif code == 24:\n",
    "        return ('24',)\n",
    "    elif code == 27:\n",
    "        return ('26', '43')\n",
    "    elif code == 28:\n",
    "        return ('23', '25')\n",
    "    elif code == 32:\n",
    "        return ('22', '31')\n",
    "    elif code == 44:\n",
    "        return ('21', '41', '42',)\n",
    "    elif code == 52:\n",
    "        return ('52',)\n",
    "    elif code == 53:\n",
    "        return ('53',)\n",
    "    elif code == 75:\n",
    "        return ('54', '72', '74')\n",
    "    elif code == 76:\n",
    "        return ('73', '91')\n",
    "    elif code == 84:\n",
    "        return ('82', '83')\n",
    "    elif code == 93:\n",
    "        return ('93', '94')\n",
    "    elif code == 99 or code == 0:\n",
    "        return ()\n",
    "    else:\n",
    "        raise NotImplementedError"
   ]
  },
  {
   "cell_type": "code",
   "execution_count": null,
   "id": "50408382-0dc4-4297-b827-40945be7049f",
   "metadata": {},
   "outputs": [],
   "source": [
    "# population 2019\n",
    "# population_2019 = ((84,8042936),(27,2805580),(53,3354854),(24,2573180),(94,340440),(44,5556219),(32,6004947),(11,12262544),(28,3325032),(75,6010289),(76,5933185),(52,3806461),(93,5081101),(5,384239+364508+281678+861210+269579))\n",
    "population_2019 = ((84,8042936),(27,2805580),(53,3354854),(24,2573180),(44,5556219),(32,6004947),(11,12262544),(28,3325032),(75,6010289),(76,5933185),(52,3806461),(93,5081101+340440),(5,384239+364508+281678+861210+269579))\n",
    "population_2019 = dict((x, y) for x, y in population_2019)"
   ]
  },
  {
   "cell_type": "code",
   "execution_count": null,
   "id": "afc6d5c5-3581-460e-ab97-04d5141a4fb4",
   "metadata": {},
   "outputs": [],
   "source": [
    "df_list = []\n",
    "for y in range(2017, 2021+1):\n",
    "    df = pd.read_csv(f'raw/OPEN_MEDIC_{y}.zip', sep=';', compression='zip', encoding='ansi', usecols=['BEN_REG', 'REM'])\n",
    "    df['REM'] = df['REM'].str.replace('.', '', regex=False).str.replace(',', '.', regex=False).astype(float)\n",
    "    df_list.append(dict(df.groupby('BEN_REG')['REM'].sum()))\n",
    "del df"
   ]
  },
  {
   "cell_type": "code",
   "execution_count": null,
   "id": "cbe0cc7a-606c-4474-b262-881cee141b4a",
   "metadata": {},
   "outputs": [],
   "source": [
    "cmap_eur = matplotlib.cm.get_cmap('YlOrRd')\n",
    "\n",
    "gradient = np.linspace(0, 1, 100)\n",
    "gradient = np.vstack([gradient] * 4)\n",
    "\n",
    "plt.figure(figsize=(12,1))\n",
    "plt.title(\"€ [225, 350]\")\n",
    "fig = plt.imshow(gradient, cmap=cmap_eur)\n",
    "fig.axes.get_yaxis().set_visible(False)\n",
    "plt.savefig(\"legende.png\")"
   ]
  },
  {
   "cell_type": "code",
   "execution_count": null,
   "id": "320650ef-6555-4dd5-9cca-840529437b3f",
   "metadata": {},
   "outputs": [],
   "source": [
    "for y in range(2017, 2021+1):\n",
    "    i = y-2017\n",
    "    \n",
    "    # anonymisé / non ciblé\n",
    "    total = sum(df_list[i].values())\n",
    "    somme = 0\n",
    "    for k in df_list[i].keys():\n",
    "        regions = grande_region_to_vraie_region(k)\n",
    "        if regions == ():\n",
    "            somme += df_list[i][k]\n",
    "    undefined = '{:.2f}%'.format(round((somme / total)*100, 2))\n",
    "    somme = \"{0:,} €\".format(int(somme)).replace(',',' ')\n",
    "    total = \"{0:,} €\".format(int(total)).replace(',',' ')\n",
    "    \n",
    "    # carte\n",
    "    chart = pygal.maps.fr.Regions(show_legend=False, style=undefined_color_style)\n",
    "    chart.title = f\"{y} - dépense de l'assurance maladie par personne (médicaments)\\n non ciblé : {somme} ({undefined})\\n total : {total}\"\n",
    "    \n",
    "    for k in population_2019.keys():\n",
    "        v = df_list[i][k] / population_2019[k]\n",
    "\n",
    "        regions = grande_region_to_vraie_region(k)\n",
    "        \n",
    "        r, g, b, a = cmap_eur((((v-225)*2)/250))\n",
    "        r *= 255\n",
    "        g *= 255\n",
    "        b *= 255\n",
    "        \n",
    "        for reg in regions:\n",
    "            chart.add('{:.2f}€'.format(round(v, 2)), [{'value':f\"{reg}\", 'color': f'rgb({r},{g},{b})'}])\n",
    "    svg = chart.render()\n",
    "    display(SVG(svg))\n",
    "    chart.render_to_file(f'{y}.svg')"
   ]
  },
  {
   "cell_type": "code",
   "execution_count": null,
   "id": "e7d5d12a-402d-4829-8d4d-355766dbe454",
   "metadata": {},
   "outputs": [],
   "source": []
  }
 ],
 "metadata": {
  "kernelspec": {
   "display_name": "Python 3 (ipykernel)",
   "language": "python",
   "name": "python3"
  },
  "language_info": {
   "codemirror_mode": {
    "name": "ipython",
    "version": 3
   },
   "file_extension": ".py",
   "mimetype": "text/x-python",
   "name": "python",
   "nbconvert_exporter": "python",
   "pygments_lexer": "ipython3",
   "version": "3.7.9"
  }
 },
 "nbformat": 4,
 "nbformat_minor": 5
}
